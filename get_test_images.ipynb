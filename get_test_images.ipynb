{
 "cells": [
  {
   "cell_type": "code",
   "execution_count": 2,
   "metadata": {},
   "outputs": [
    {
     "name": "stdout",
     "output_type": "stream",
     "text": [
      "\n",
      "\n",
      "Done\n",
      "\n",
      "\n"
     ]
    }
   ],
   "source": [
    "import cv2\n",
    "import os\n",
    "import sys\n",
    "import time\n",
    "\n",
    "try:\n",
    "    num_of_images = 1\n",
    "    image_label = 'test_images'\n",
    "except:\n",
    "    print(\"\\nInvalid syntax. Please pass the number of images to be captured and label name as arguments.\")\n",
    "    print(\"Sample Command: python get_training_images.py 100 mute\")\n",
    "    exit(-1)\n",
    "\n",
    "font = cv2.FONT_HERSHEY_PLAIN\n",
    "click = False\n",
    "#All the captured categories will have a sub-folder placed inside the 'test_img_folder'\n",
    "test_img_folder = 'test_images'\n",
    "\n",
    "#The label_name is the name of our category (Eg: - up, down, chrome etc.)\n",
    "label_name = os.path.join(test_img_folder, image_label)\n",
    "\n",
    "#count of images to be captured\n",
    "count = image_name = 0\n",
    "\n",
    "try:\n",
    "    os.mkdir(test_img_folder)\n",
    "except FileExistsError:\n",
    "    pass\n",
    "try:\n",
    "    os.mkdir(label_name)\n",
    "except FileExistsError:\n",
    "    #If any images are already present, updating the image name starting number\n",
    "    image_name=len(os.listdir(label_name))\n",
    "\n",
    "    \n",
    "#Begin Capturing Images from webcam\n",
    "video = cv2.VideoCapture(0)\n",
    "video.set(cv2.CAP_PROP_FRAME_WIDTH, 2000)\n",
    "video.set(cv2.CAP_PROP_FRAME_HEIGHT, 2000)\n",
    "\n",
    "while True:\n",
    "    ret, image = video.read()\n",
    "    image = cv2.flip(image, 1)\n",
    "    time.sleep(0.3)\n",
    "    if not ret:\n",
    "        continue\n",
    "\n",
    "    #Stop capturing images once the count is reached\n",
    "    if count == num_of_images:\n",
    "        break\n",
    "\n",
    "    #Drawing a square with white border. Anything inside this square box will be captured as training image.\n",
    "    cv2.rectangle(image, (200, 200), (550, 550), (255, 255, 255), 2)\n",
    "\n",
    "    #Start capturing pictures when user presses 's' key\n",
    "    if click:\n",
    "        region_of_interest = image[200:550, 200:550]\n",
    "        save_path = os.path.join(label_name, '{}.jpg'.format(image_name + 1))\n",
    "        cv2.imwrite(save_path, region_of_interest)\n",
    "        image_name += 1\n",
    "        count += 1\n",
    "\n",
    "    #putText() method is used here to display message inside the webcam feed. It takes the following parameters\n",
    "    #<image> : the image where the text is to be displayed\n",
    "    #<text> : text to be displayed\n",
    "    #(x,y) : position of the text\n",
    "    #<font> : the font name of the text\n",
    "    #<font_size>: size of the font\n",
    "    #(BGR) : the color of the text in BGR format\n",
    "    #<font_thickness> : thickness of the text characters\n",
    "    cv2.putText(image, \"Fit the gesture inside the white box and Press 's' key to start clicking pictures\",\n",
    "            (20, 30), font, 0.8, (255, 0, 0), 1, cv2.LINE_AA)\n",
    "    cv2.putText(image, \"Press 'q' to exit.\",\n",
    "            (20, 60), font, 0.8, (255, 0, 0), 1, cv2.LINE_AA)\n",
    "    cv2.putText(image, \"Image Count: {}\".format(count),\n",
    "            (20, 100), font, 1, (12, 20, 200), 2, cv2.LINE_AA)\n",
    "    cv2.imshow(\"Get Training Images\", image)\n",
    "    \n",
    "    \n",
    "    k = cv2.waitKey(10)\n",
    "    if k==ord('q'):\n",
    "            break\n",
    "    if k == ord('s'):\n",
    "        click = not click\n",
    "\n",
    "print(\"\\n\\nDone\\n\\n\")\n",
    "video.release()\n",
    "cv2.destroyAllWindows()\n"
   ]
  },
  {
   "cell_type": "code",
   "execution_count": 3,
   "metadata": {},
   "outputs": [
    {
     "name": "stdout",
     "output_type": "stream",
     "text": [
      "4.2.0\n"
     ]
    }
   ],
   "source": [
    "print(cv2.__version__)"
   ]
  },
  {
   "cell_type": "code",
   "execution_count": null,
   "metadata": {},
   "outputs": [],
   "source": []
  },
  {
   "cell_type": "code",
   "execution_count": null,
   "metadata": {},
   "outputs": [],
   "source": []
  }
 ],
 "metadata": {
  "kernelspec": {
   "display_name": "Python 3",
   "language": "python",
   "name": "python3"
  },
  "language_info": {
   "codemirror_mode": {
    "name": "ipython",
    "version": 3
   },
   "file_extension": ".py",
   "mimetype": "text/x-python",
   "name": "python",
   "nbconvert_exporter": "python",
   "pygments_lexer": "ipython3",
   "version": "3.7.4"
  }
 },
 "nbformat": 4,
 "nbformat_minor": 2
}
