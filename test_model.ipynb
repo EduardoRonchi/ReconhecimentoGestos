{
 "cells": [
  {
   "cell_type": "code",
   "execution_count": 1,
   "metadata": {},
   "outputs": [
    {
     "name": "stderr",
     "output_type": "stream",
     "text": [
      "Using TensorFlow backend.\n"
     ]
    },
    {
     "name": "stdout",
     "output_type": "stream",
     "text": [
      "Done Testing!\n",
      "\n",
      "\n",
      "Test Report:\n",
      "              precision    recall  f1-score   support\n",
      "\n",
      "           0       1.00      1.00      1.00        10\n",
      "           1       1.00      1.00      1.00        10\n",
      "\n",
      "    accuracy                           1.00        20\n",
      "   macro avg       1.00      1.00      1.00        20\n",
      "weighted avg       1.00      1.00      1.00        20\n",
      "\n"
     ]
    },
    {
     "data": {
      "text/plain": [
       "<AxesSubplot:xlabel='Predicted', ylabel='Actual'>"
      ]
     },
     "execution_count": 1,
     "metadata": {},
     "output_type": "execute_result"
    },
    {
     "data": {
      "image/png": "[encoded data removed]",
      "text/plain": [
       "<Figure size 360x216 with 2 Axes>"
      ]
     },
     "metadata": {
      "needs_background": "light"
     },
     "output_type": "display_data"
    }
   ],
   "source": [
    "from keras.models import load_model\n",
    "import cv2\n",
    "import numpy as np\n",
    "import sys\n",
    "from sklearn.metrics import confusion_matrix\n",
    "import pandas as pd\n",
    "import seaborn as sn\n",
    "import matplotlib.pyplot as plt\n",
    "from sklearn.metrics import classification_report\n",
    "import fnmatch\n",
    "import os\n",
    "%matplotlib inline\n",
    "\n",
    "CATEGORY = {\n",
    "    0: \"up\",\n",
    "    1: \"down\"\n",
    "}\n",
    "\n",
    "# Vetor de respostas. Armazena as respostas corretas.\n",
    "actual = [1,0,0,0,0,0,0,1,1,1,1,1,0,0,0,0,1,1,1,1]\n",
    "\n",
    "# Vetor que armazena as predições.\n",
    "predict = []\n",
    "\n",
    "# Mapeia os gestos para o equivalente em número\n",
    "def mapping(val):\n",
    "    return CATEGORY[val]\n",
    "\n",
    "# Carrega o modelo treinado\n",
    "model = load_model(\"treinamento_gestos.h5\")\n",
    "\n",
    "# Conta a quantidade de arquivos .jpg do diretório\n",
    "dir = 'C:/Users/eduar/Reconhecimento de Gestos/Untitled Folder/test_images/test_images'\n",
    "count_of_img = len(fnmatch.filter(os.listdir(dir), '*.jpg'))\n",
    "\n",
    "# Loop para testar cada imagem da pasta dir\n",
    "for i in range(count_of_img):\n",
    "    # Caminho onde estão as imagens salvas para teste\n",
    "    filepath = 'C:/Users/eduar/Reconhecimento de Gestos/Untitled Folder/test_images/test_images/{}.jpg'.format(i)\n",
    "\n",
    "    # Ajustar imagem para que tenha as mesmas dimensões da imagem de treino\n",
    "    image = cv2.imread(filepath)\n",
    "    image = cv2.cvtColor(image, cv2.COLOR_BGR2RGB)\n",
    "    image = cv2.resize(image, (225, 225))\n",
    "\n",
    "    # Faz a predição do gesto da imagem\n",
    "    prediction = model.predict(np.array([image]))\n",
    "\n",
    "    # Passa a predição para valor\n",
    "    gesture_value = np.argmax(prediction[0])\n",
    "    \n",
    "    # Mapeia o gesto para valor\n",
    "    gesture_name = mapping(gesture_value)\n",
    "    \n",
    "    # Salva o resultado numérico em um vetor para comparação\n",
    "    predict.append(gesture_value)\n",
    "\n",
    "print(\"Done Testing!\")    \n",
    "\n",
    "# Plot do Classificasion Report\n",
    "report = classification_report(actual, predict)\n",
    "print(\"\\n\")\n",
    "print(\"Test Report:\")\n",
    "print(report)\n",
    "\n",
    "# Plota a matriz de confusao\n",
    "confusion_matrix(actual, predict)\n",
    "data = confusion_matrix(actual, predict)\n",
    "df_cm = pd.DataFrame(data, columns=np.unique(actual), index = np.unique(actual))\n",
    "df_cm.index.name = 'Actual'\n",
    "df_cm.columns.name = 'Predicted'\n",
    "plt.figure(figsize = (5,3))\n",
    "sn.set(font_scale=1.4)#for label size\n",
    "sn.heatmap(df_cm, cmap=\"Blues\", annot=True,annot_kws={\"size\": 16})# font size"
   ]
  },
  {
   "cell_type": "code",
   "execution_count": null,
   "metadata": {},
   "outputs": [],
   "source": []
  }
 ],
 "metadata": {
  "kernelspec": {
   "display_name": "Python 3",
   "language": "python",
   "name": "python3"
  },
  "language_info": {
   "codemirror_mode": {
    "name": "ipython",
    "version": 3
   },
   "file_extension": ".py",
   "mimetype": "text/x-python",
   "name": "python",
   "nbconvert_exporter": "python",
   "pygments_lexer": "ipython3",
   "version": "3.7.4"
  }
 },
 "nbformat": 4,
 "nbformat_minor": 2
}
